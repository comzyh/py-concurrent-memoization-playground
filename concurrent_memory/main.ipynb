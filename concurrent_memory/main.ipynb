{
 "cells": [
  {
   "cell_type": "code",
   "execution_count": null,
   "metadata": {},
   "outputs": [],
   "source": [
    "import multiprocessing\n",
    "\n",
    "memoization_cache = multiprocessing.Manager().dict()\n",
    "locks = multiprocessing.Manager().dict()"
   ]
  },
  {
   "cell_type": "code",
   "execution_count": null,
   "metadata": {},
   "outputs": [],
   "source": [
    "import time\n",
    "def perform_calculation(key)-> None:\n",
    "    print(f\"key={key}\")\n",
    "    time.sleep(5)\n",
    "    \n",
    "def memoized_calculation(key):\n",
    "    \n",
    "    # Fast path to return the cached result if it exists\n",
    "    if key in memoization_cache:\n",
    "        return memoization_cache[key]\n",
    "\n",
    "\n",
    "    if key not in memoization_cache:\n",
    "        # Create a new lock for the key if it doesn't exist\n",
    "        locks[key] = multiprocessing.Lock()\n",
    "\n",
    "    # Lock to ensure only 1 calculation is performed at a time\n",
    "    with locks[key]:\n",
    "        # Check again if the calculation is already done as other threads might have updated it\n",
    "        if key not in memoization_cache:\n",
    "            # Perform the calculation and store the result in memoization_cache\n",
    "            memoization_cache[key] = perform_calculation(key)\n",
    "    return memoization_cache[key]"
   ]
  },
  {
   "cell_type": "code",
   "execution_count": null,
   "metadata": {},
   "outputs": [],
   "source": [
    "from concurrent.futures import ProcessPoolExecutor\n",
    "\n",
    "executor = ProcessPoolExecutor(16)\n",
    "\n",
    "for res in executor.map(memoized_calculation, [1,2,2,3,3,3,4,4,4,4,5,5,5,5,5,5]):\n",
    "    pass\n",
    "    "
   ]
  }
 ],
 "metadata": {
  "kernelspec": {
   "display_name": "py-concurrent-memoization-playground",
   "language": "python",
   "name": "python3"
  },
  "language_info": {
   "codemirror_mode": {
    "name": "ipython",
    "version": 3
   },
   "file_extension": ".py",
   "mimetype": "text/x-python",
   "name": "python",
   "nbconvert_exporter": "python",
   "pygments_lexer": "ipython3",
   "version": "3.11.0rc1"
  }
 },
 "nbformat": 4,
 "nbformat_minor": 2
}
